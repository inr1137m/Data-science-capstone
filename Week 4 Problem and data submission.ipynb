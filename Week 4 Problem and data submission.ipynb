{
 "cells": [
  {
   "cell_type": "markdown",
   "metadata": {},
   "source": [
    "## **FINDING THE HOTSPOT FOR MOBILE PHONE EXPO-2020**"
   ]
  },
  {
   "cell_type": "markdown",
   "metadata": {},
   "source": [
    "*Data Science Capstone - IBM Data Science Professional Certificate on Coursera*"
   ]
  },
  {
   "cell_type": "markdown",
   "metadata": {},
   "source": [
    "***\n"
   ]
  },
  {
   "cell_type": "markdown",
   "metadata": {},
   "source": [
    "### **BUSINESS PROBLEM**"
   ]
  },
  {
   "cell_type": "markdown",
   "metadata": {},
   "source": [
    "A Mobile Phone Expo in India for the year 2020 has been planned and the location for the expo is still undecided. This Expo will act as a marketing campaign for major mobile phone manufacturers and local mobile stores around the location. Customers can purchase a new mobile phone and also they can get to know the local stores, service points nearby from the expo. \n",
    "\n",
    "The problem is to find the central hub-point, which should be located in middle of many mobile shops in a lesser distance. So, that expected amount of sponsors and customers around that area will be guaranteed to participate in the expo. Therefore, the cost of installing the expo can be reduced by more number of sponsors and profit of the expo will be increased."
   ]
  },
  {
   "cell_type": "markdown",
   "metadata": {},
   "source": [
    "<BR>"
   ]
  },
  {
   "cell_type": "markdown",
   "metadata": {},
   "source": [
    "### **DATA SECTION**"
   ]
  },
  {
   "cell_type": "markdown",
   "metadata": {},
   "source": [
    "I will use the Foursquare API for collecting the mobile shop location data's which includes latitude and longitude values for 5 major cities in India. The Cities are Bangalore, Chennai, Delhi, Hyderabad and Mumbai. The reason behind these 5 Cities are that these cities are well known for their daily market trade and populations.\n",
    "\n",
    "**Sample Data from FourSquare API**\n",
    "\n",
    "\"venue\": {\n",
    "\n",
    "    \"id\": \"4d92d4c9a27d88bfdbd6fe50\"\n",
    "    \"name\": \"Reliance Digital Express\"\n",
    "    \"contact\": {\n",
    "        \"phone\": \"04442693515\"\n",
    "        \"formattedPhone\": \"044 4269 3515\"\n",
    "        \"twitter\": \"istoreindia\"\n",
    "    }\n",
    "    \"location\": {\n",
    "        \"address\": \"Anna Nagar\"\n",
    "        \"lat\": 13.08475622625922\n",
    "        \"lng\": 80.21334255311366\n",
    "        \"labeledLatLngs\": [\n",
    "            \"0\": {\n",
    "                \"label\": \"display\"\n",
    "                \"lat\": 13.08475622625922\n",
    "                \"lng\": 80.21334255311366\n",
    "            }\n",
    "        ]\n",
    "        \"postalCode\": \"600040\"\n",
    "        \"cc\": \"IN\"\n",
    "        \"city\": \"Chennai\"\n",
    "        \"state\": \"Tamil Nadu\"\n",
    "        \"country\": \"India\"\n",
    "        \"formattedAddress\": [\n",
    "            \"0\": \"Anna Nagar\"\n",
    "            \"1\": \"Chennai 600040\"\n",
    "            \"2\": \"Tamil Nadu\"\n",
    "        ]\n",
    "    }\n",
    "    \"categories\": [\n",
    "        \"0\": {\n",
    "            \"id\": \"4f04afc02fb6e1c99f3db0bc\"\n",
    "            \"name\": \"Mobile Phone Shop\"\n",
    "            \"pluralName\": \"Mobile Phone Shops\"\n",
    "            \"shortName\": \"Mobile Phones\"\n",
    "            \"icon\": {\n",
    "                \"prefix\": \"https://ss3.4sqi.net/img/categories_v2/shops/mobilephoneshop_\"\n",
    "                \"suffix\": \".png\"\n",
    "            }\n",
    "            \"primary\": true\n",
    "        }\n",
    "    ]\n",
    "    \"verified\": true\n",
    "    \"stats\": {\n",
    "        \"tipCount\": 3\n",
    "        \"usersCount\": 114\n",
    "        \"checkinsCount\": 288\n",
    "    }"
   ]
  },
  {
   "cell_type": "markdown",
   "metadata": {},
   "source": [
    "<hr/>"
   ]
  }
 ],
 "metadata": {
  "kernelspec": {
   "display_name": "Python",
   "language": "python",
   "name": "conda-env-python-py"
  },
  "language_info": {
   "codemirror_mode": {
    "name": "ipython",
    "version": 3
   },
   "file_extension": ".py",
   "mimetype": "text/x-python",
   "name": "python",
   "nbconvert_exporter": "python",
   "pygments_lexer": "ipython3",
   "version": "3.6.7"
  }
 },
 "nbformat": 4,
 "nbformat_minor": 4
}
